{
 "cells": [
  {
   "cell_type": "markdown",
   "id": "e79c3f3d",
   "metadata": {},
   "source": [
    "# Red neuronal para predecir si una persona sufrirá de un derrame cerebral"
   ]
  },
  {
   "cell_type": "code",
   "execution_count": 4,
   "id": "d3a10931",
   "metadata": {},
   "outputs": [],
   "source": [
    "#----------------------------------------------------------\n",
    "# Se importan las librerias\n",
    "#----------------------------------------------------------\n",
    "\n",
    "import pandas as pd\n",
    "\n",
    "from sklearn.neural_network import MLPClassifier\n",
    "from sklearn.metrics import accuracy_score, confusion_matrix\n",
    "from sklearn.compose import ColumnTransformer\n",
    "from sklearn.pipeline import Pipeline\n",
    "from sklearn.impute import SimpleImputer\n",
    "from sklearn.preprocessing import StandardScaler, OneHotEncoder\n",
    "from sklearn.model_selection import train_test_split\n"
   ]
  },
  {
   "cell_type": "markdown",
   "id": "074afc8b",
   "metadata": {},
   "source": [
    "#### 1. Leer el archivo stroke.csv"
   ]
  },
  {
   "cell_type": "code",
   "execution_count": 5,
   "id": "7355ecc7",
   "metadata": {},
   "outputs": [],
   "source": [
    "#----------------------------------------------------------\n",
    "# Url de los datos. Carga local si falla el origen web\n",
    "#----------------------------------------------------------\n",
    "\n",
    "try:\n",
    "    url = \"https://raw.githubusercontent.com/Yurani1143/Informe_Inteligencia_Artificial/main/stroke.csv\"\n",
    "except:\n",
    "    url = \"./stroke.csv\"\n",
    "\n",
    "#----------------------------------------------------------\n",
    "# Se cargan los datos\n",
    "#----------------------------------------------------------\n",
    "datos = pd.read_csv(url, sep=\",\")\n",
    "datos.columns= [\"sexo\",\"edad\",\"hipertension\",\"enfermedades_cardiacas\",\"casado\",\"tipo_trabajo\",\"tipo_residencia\",\n",
    "                \"nivel_glucosa_promedio\",\"indice_masa_corporal\",\"estado_tabaquismo\",\"derrame_cerebral\"]"
   ]
  },
  {
   "cell_type": "code",
   "execution_count": 6,
   "id": "1d8ff7a4",
   "metadata": {},
   "outputs": [
    {
     "name": "stdout",
     "output_type": "stream",
     "text": [
      "<class 'pandas.core.frame.DataFrame'>\n",
      "RangeIndex: 700 entries, 0 to 699\n",
      "Data columns (total 11 columns):\n",
      " #   Column                  Non-Null Count  Dtype  \n",
      "---  ------                  --------------  -----  \n",
      " 0   sexo                    700 non-null    object \n",
      " 1   edad                    700 non-null    float64\n",
      " 2   hipertension            700 non-null    int64  \n",
      " 3   enfermedades_cardiacas  700 non-null    int64  \n",
      " 4   casado                  700 non-null    object \n",
      " 5   tipo_trabajo            700 non-null    object \n",
      " 6   tipo_residencia         700 non-null    object \n",
      " 7   nivel_glucosa_promedio  700 non-null    float64\n",
      " 8   indice_masa_corporal    651 non-null    float64\n",
      " 9   estado_tabaquismo       700 non-null    object \n",
      " 10  derrame_cerebral        700 non-null    int64  \n",
      "dtypes: float64(3), int64(3), object(5)\n",
      "memory usage: 60.3+ KB\n"
     ]
    }
   ],
   "source": [
    "#----------------------------------------------------------\n",
    "# Información de los atributos\n",
    "#----------------------------------------------------------\n",
    "\n",
    "datos.info()"
   ]
  },
  {
   "cell_type": "code",
   "execution_count": 7,
   "id": "ff02d4b9",
   "metadata": {},
   "outputs": [
    {
     "data": {
      "text/html": [
       "<div>\n",
       "<style scoped>\n",
       "    .dataframe tbody tr th:only-of-type {\n",
       "        vertical-align: middle;\n",
       "    }\n",
       "\n",
       "    .dataframe tbody tr th {\n",
       "        vertical-align: top;\n",
       "    }\n",
       "\n",
       "    .dataframe thead th {\n",
       "        text-align: right;\n",
       "    }\n",
       "</style>\n",
       "<table border=\"1\" class=\"dataframe\">\n",
       "  <thead>\n",
       "    <tr style=\"text-align: right;\">\n",
       "      <th></th>\n",
       "      <th>sexo</th>\n",
       "      <th>casado</th>\n",
       "      <th>tipo_trabajo</th>\n",
       "      <th>tipo_residencia</th>\n",
       "      <th>estado_tabaquismo</th>\n",
       "    </tr>\n",
       "  </thead>\n",
       "  <tbody>\n",
       "    <tr>\n",
       "      <th>count</th>\n",
       "      <td>700</td>\n",
       "      <td>700</td>\n",
       "      <td>700</td>\n",
       "      <td>700</td>\n",
       "      <td>700</td>\n",
       "    </tr>\n",
       "    <tr>\n",
       "      <th>unique</th>\n",
       "      <td>2</td>\n",
       "      <td>2</td>\n",
       "      <td>5</td>\n",
       "      <td>2</td>\n",
       "      <td>4</td>\n",
       "    </tr>\n",
       "    <tr>\n",
       "      <th>top</th>\n",
       "      <td>Female</td>\n",
       "      <td>Yes</td>\n",
       "      <td>Private</td>\n",
       "      <td>Urban</td>\n",
       "      <td>never smoked</td>\n",
       "    </tr>\n",
       "    <tr>\n",
       "      <th>freq</th>\n",
       "      <td>414</td>\n",
       "      <td>522</td>\n",
       "      <td>410</td>\n",
       "      <td>356</td>\n",
       "      <td>265</td>\n",
       "    </tr>\n",
       "  </tbody>\n",
       "</table>\n",
       "</div>"
      ],
      "text/plain": [
       "          sexo casado tipo_trabajo tipo_residencia estado_tabaquismo\n",
       "count      700    700          700             700               700\n",
       "unique       2      2            5               2                 4\n",
       "top     Female    Yes      Private           Urban      never smoked\n",
       "freq       414    522          410             356               265"
      ]
     },
     "execution_count": 7,
     "metadata": {},
     "output_type": "execute_result"
    }
   ],
   "source": [
    "#----------------------------------------------------------\n",
    "# Variables categóricas (tipo object)\n",
    "#----------------------------------------------------------\n",
    "datos.select_dtypes(include=['object']).describe()\n"
   ]
  },
  {
   "cell_type": "code",
   "execution_count": 8,
   "id": "8d0c3ae6",
   "metadata": {},
   "outputs": [
    {
     "data": {
      "text/html": [
       "<div>\n",
       "<style scoped>\n",
       "    .dataframe tbody tr th:only-of-type {\n",
       "        vertical-align: middle;\n",
       "    }\n",
       "\n",
       "    .dataframe tbody tr th {\n",
       "        vertical-align: top;\n",
       "    }\n",
       "\n",
       "    .dataframe thead th {\n",
       "        text-align: right;\n",
       "    }\n",
       "</style>\n",
       "<table border=\"1\" class=\"dataframe\">\n",
       "  <thead>\n",
       "    <tr style=\"text-align: right;\">\n",
       "      <th></th>\n",
       "      <th>hipertension</th>\n",
       "      <th>enfermedades_cardiacas</th>\n",
       "      <th>derrame_cerebral</th>\n",
       "    </tr>\n",
       "  </thead>\n",
       "  <tbody>\n",
       "    <tr>\n",
       "      <th>count</th>\n",
       "      <td>700.000000</td>\n",
       "      <td>700.000000</td>\n",
       "      <td>700.000000</td>\n",
       "    </tr>\n",
       "    <tr>\n",
       "      <th>mean</th>\n",
       "      <td>0.151429</td>\n",
       "      <td>0.095714</td>\n",
       "      <td>0.355714</td>\n",
       "    </tr>\n",
       "    <tr>\n",
       "      <th>std</th>\n",
       "      <td>0.358722</td>\n",
       "      <td>0.294409</td>\n",
       "      <td>0.479072</td>\n",
       "    </tr>\n",
       "    <tr>\n",
       "      <th>min</th>\n",
       "      <td>0.000000</td>\n",
       "      <td>0.000000</td>\n",
       "      <td>0.000000</td>\n",
       "    </tr>\n",
       "    <tr>\n",
       "      <th>25%</th>\n",
       "      <td>0.000000</td>\n",
       "      <td>0.000000</td>\n",
       "      <td>0.000000</td>\n",
       "    </tr>\n",
       "    <tr>\n",
       "      <th>50%</th>\n",
       "      <td>0.000000</td>\n",
       "      <td>0.000000</td>\n",
       "      <td>0.000000</td>\n",
       "    </tr>\n",
       "    <tr>\n",
       "      <th>75%</th>\n",
       "      <td>0.000000</td>\n",
       "      <td>0.000000</td>\n",
       "      <td>1.000000</td>\n",
       "    </tr>\n",
       "    <tr>\n",
       "      <th>max</th>\n",
       "      <td>1.000000</td>\n",
       "      <td>1.000000</td>\n",
       "      <td>1.000000</td>\n",
       "    </tr>\n",
       "  </tbody>\n",
       "</table>\n",
       "</div>"
      ],
      "text/plain": [
       "       hipertension  enfermedades_cardiacas  derrame_cerebral\n",
       "count    700.000000              700.000000        700.000000\n",
       "mean       0.151429                0.095714          0.355714\n",
       "std        0.358722                0.294409          0.479072\n",
       "min        0.000000                0.000000          0.000000\n",
       "25%        0.000000                0.000000          0.000000\n",
       "50%        0.000000                0.000000          0.000000\n",
       "75%        0.000000                0.000000          1.000000\n",
       "max        1.000000                1.000000          1.000000"
      ]
     },
     "execution_count": 8,
     "metadata": {},
     "output_type": "execute_result"
    }
   ],
   "source": [
    "#----------------------------------------------------------\n",
    "# Variables cuantitativas (tipo entero)\n",
    "#----------------------------------------------------------\n",
    "\n",
    "datos.select_dtypes(include=['int64']).describe()"
   ]
  },
  {
   "cell_type": "code",
   "execution_count": 9,
   "id": "0b72f6db",
   "metadata": {},
   "outputs": [
    {
     "data": {
      "text/html": [
       "<div>\n",
       "<style scoped>\n",
       "    .dataframe tbody tr th:only-of-type {\n",
       "        vertical-align: middle;\n",
       "    }\n",
       "\n",
       "    .dataframe tbody tr th {\n",
       "        vertical-align: top;\n",
       "    }\n",
       "\n",
       "    .dataframe thead th {\n",
       "        text-align: right;\n",
       "    }\n",
       "</style>\n",
       "<table border=\"1\" class=\"dataframe\">\n",
       "  <thead>\n",
       "    <tr style=\"text-align: right;\">\n",
       "      <th></th>\n",
       "      <th>edad</th>\n",
       "      <th>nivel_glucosa_promedio</th>\n",
       "      <th>indice_masa_corporal</th>\n",
       "    </tr>\n",
       "  </thead>\n",
       "  <tbody>\n",
       "    <tr>\n",
       "      <th>count</th>\n",
       "      <td>700.000000</td>\n",
       "      <td>700.000000</td>\n",
       "      <td>651.000000</td>\n",
       "    </tr>\n",
       "    <tr>\n",
       "      <th>mean</th>\n",
       "      <td>51.485200</td>\n",
       "      <td>116.647786</td>\n",
       "      <td>29.857143</td>\n",
       "    </tr>\n",
       "    <tr>\n",
       "      <th>std</th>\n",
       "      <td>22.401775</td>\n",
       "      <td>53.171734</td>\n",
       "      <td>8.008309</td>\n",
       "    </tr>\n",
       "    <tr>\n",
       "      <th>min</th>\n",
       "      <td>0.320000</td>\n",
       "      <td>55.250000</td>\n",
       "      <td>12.000000</td>\n",
       "    </tr>\n",
       "    <tr>\n",
       "      <th>25%</th>\n",
       "      <td>36.000000</td>\n",
       "      <td>78.787500</td>\n",
       "      <td>24.450000</td>\n",
       "    </tr>\n",
       "    <tr>\n",
       "      <th>50%</th>\n",
       "      <td>55.000000</td>\n",
       "      <td>96.925000</td>\n",
       "      <td>28.500000</td>\n",
       "    </tr>\n",
       "    <tr>\n",
       "      <th>75%</th>\n",
       "      <td>71.000000</td>\n",
       "      <td>137.795000</td>\n",
       "      <td>34.300000</td>\n",
       "    </tr>\n",
       "    <tr>\n",
       "      <th>max</th>\n",
       "      <td>82.000000</td>\n",
       "      <td>271.740000</td>\n",
       "      <td>71.900000</td>\n",
       "    </tr>\n",
       "  </tbody>\n",
       "</table>\n",
       "</div>"
      ],
      "text/plain": [
       "             edad  nivel_glucosa_promedio  indice_masa_corporal\n",
       "count  700.000000              700.000000            651.000000\n",
       "mean    51.485200              116.647786             29.857143\n",
       "std     22.401775               53.171734              8.008309\n",
       "min      0.320000               55.250000             12.000000\n",
       "25%     36.000000               78.787500             24.450000\n",
       "50%     55.000000               96.925000             28.500000\n",
       "75%     71.000000              137.795000             34.300000\n",
       "max     82.000000              271.740000             71.900000"
      ]
     },
     "execution_count": 9,
     "metadata": {},
     "output_type": "execute_result"
    }
   ],
   "source": [
    "#----------------------------------------------------------\n",
    "# Variables cuantitativas (tipo real)\n",
    "#----------------------------------------------------------\n",
    "datos.select_dtypes(include=['float64']).describe()"
   ]
  },
  {
   "cell_type": "markdown",
   "id": "0d55ee4f",
   "metadata": {},
   "source": [
    "#### 2. Seleccionar aleatoriamente el 80% del conjunto de datos para entrenar y el 20% restante para las pruebas"
   ]
  },
  {
   "cell_type": "code",
   "execution_count": 10,
   "id": "b381f1f3",
   "metadata": {
    "scrolled": true
   },
   "outputs": [
    {
     "name": "stdout",
     "output_type": "stream",
     "text": [
      "700 560 140\n"
     ]
    }
   ],
   "source": [
    "totalDatos=len(datos) # cantidad de datos\n",
    "cTrain=int(totalDatos*0.8) # 80% para entrenar y 20% para probar\n",
    "cTest=totalDatos-cTrain\n",
    "print(totalDatos,cTrain,cTest)\n",
    "train_data,test_data= train_test_split(datos, train_size=cTrain, test_size=cTest)\n"
   ]
  },
  {
   "cell_type": "markdown",
   "id": "3b17f24b",
   "metadata": {},
   "source": [
    "700 - Conjunto total de datos"
   ]
  },
  {
   "cell_type": "markdown",
   "id": "4824d439",
   "metadata": {},
   "source": [
    "560 - Corresponde al 80% del conjunto de entrenamiento "
   ]
  },
  {
   "cell_type": "markdown",
   "id": "dc81c062",
   "metadata": {},
   "source": [
    "140 - Corresponde al 20 % del conjunto de prueba"
   ]
  },
  {
   "cell_type": "code",
   "execution_count": 11,
   "id": "cd081194",
   "metadata": {},
   "outputs": [
    {
     "data": {
      "text/plain": [
       "(560, 11)"
      ]
     },
     "execution_count": 11,
     "metadata": {},
     "output_type": "execute_result"
    }
   ],
   "source": [
    "#----------------------------------------------------------\n",
    "# Dimension del conjunto de entrenamiento\n",
    "#----------------------------------------------------------\n",
    "train_data.shape\n"
   ]
  },
  {
   "cell_type": "markdown",
   "id": "830696ec",
   "metadata": {},
   "source": [
    "Los datos de entrenamiento son 560 y tiene 11 atributos "
   ]
  },
  {
   "cell_type": "code",
   "execution_count": 12,
   "id": "1b26321e",
   "metadata": {},
   "outputs": [
    {
     "data": {
      "text/html": [
       "<div>\n",
       "<style scoped>\n",
       "    .dataframe tbody tr th:only-of-type {\n",
       "        vertical-align: middle;\n",
       "    }\n",
       "\n",
       "    .dataframe tbody tr th {\n",
       "        vertical-align: top;\n",
       "    }\n",
       "\n",
       "    .dataframe thead th {\n",
       "        text-align: right;\n",
       "    }\n",
       "</style>\n",
       "<table border=\"1\" class=\"dataframe\">\n",
       "  <thead>\n",
       "    <tr style=\"text-align: right;\">\n",
       "      <th></th>\n",
       "      <th>sexo</th>\n",
       "      <th>edad</th>\n",
       "      <th>hipertension</th>\n",
       "      <th>enfermedades_cardiacas</th>\n",
       "      <th>casado</th>\n",
       "      <th>tipo_trabajo</th>\n",
       "      <th>tipo_residencia</th>\n",
       "      <th>nivel_glucosa_promedio</th>\n",
       "      <th>indice_masa_corporal</th>\n",
       "      <th>estado_tabaquismo</th>\n",
       "      <th>derrame_cerebral</th>\n",
       "    </tr>\n",
       "  </thead>\n",
       "  <tbody>\n",
       "    <tr>\n",
       "      <th>104</th>\n",
       "      <td>Female</td>\n",
       "      <td>57.0</td>\n",
       "      <td>0</td>\n",
       "      <td>0</td>\n",
       "      <td>Yes</td>\n",
       "      <td>Govt_job</td>\n",
       "      <td>Urban</td>\n",
       "      <td>110.52</td>\n",
       "      <td>28.5</td>\n",
       "      <td>Unknown</td>\n",
       "      <td>1</td>\n",
       "    </tr>\n",
       "    <tr>\n",
       "      <th>547</th>\n",
       "      <td>Female</td>\n",
       "      <td>26.0</td>\n",
       "      <td>0</td>\n",
       "      <td>0</td>\n",
       "      <td>Yes</td>\n",
       "      <td>Private</td>\n",
       "      <td>Rural</td>\n",
       "      <td>75.29</td>\n",
       "      <td>22.6</td>\n",
       "      <td>smokes</td>\n",
       "      <td>0</td>\n",
       "    </tr>\n",
       "    <tr>\n",
       "      <th>562</th>\n",
       "      <td>Female</td>\n",
       "      <td>1.8</td>\n",
       "      <td>0</td>\n",
       "      <td>0</td>\n",
       "      <td>No</td>\n",
       "      <td>children</td>\n",
       "      <td>Urban</td>\n",
       "      <td>58.26</td>\n",
       "      <td>16.5</td>\n",
       "      <td>Unknown</td>\n",
       "      <td>0</td>\n",
       "    </tr>\n",
       "    <tr>\n",
       "      <th>404</th>\n",
       "      <td>Female</td>\n",
       "      <td>61.0</td>\n",
       "      <td>0</td>\n",
       "      <td>0</td>\n",
       "      <td>Yes</td>\n",
       "      <td>Self-employed</td>\n",
       "      <td>Rural</td>\n",
       "      <td>93.48</td>\n",
       "      <td>23.7</td>\n",
       "      <td>Unknown</td>\n",
       "      <td>0</td>\n",
       "    </tr>\n",
       "    <tr>\n",
       "      <th>99</th>\n",
       "      <td>Female</td>\n",
       "      <td>69.0</td>\n",
       "      <td>0</td>\n",
       "      <td>0</td>\n",
       "      <td>Yes</td>\n",
       "      <td>Govt_job</td>\n",
       "      <td>Urban</td>\n",
       "      <td>82.81</td>\n",
       "      <td>28.0</td>\n",
       "      <td>never smoked</td>\n",
       "      <td>1</td>\n",
       "    </tr>\n",
       "  </tbody>\n",
       "</table>\n",
       "</div>"
      ],
      "text/plain": [
       "       sexo  edad  hipertension  enfermedades_cardiacas casado   tipo_trabajo  \\\n",
       "104  Female  57.0             0                       0    Yes       Govt_job   \n",
       "547  Female  26.0             0                       0    Yes        Private   \n",
       "562  Female   1.8             0                       0     No       children   \n",
       "404  Female  61.0             0                       0    Yes  Self-employed   \n",
       "99   Female  69.0             0                       0    Yes       Govt_job   \n",
       "\n",
       "    tipo_residencia  nivel_glucosa_promedio  indice_masa_corporal  \\\n",
       "104           Urban                  110.52                  28.5   \n",
       "547           Rural                   75.29                  22.6   \n",
       "562           Urban                   58.26                  16.5   \n",
       "404           Rural                   93.48                  23.7   \n",
       "99            Urban                   82.81                  28.0   \n",
       "\n",
       "    estado_tabaquismo  derrame_cerebral  \n",
       "104           Unknown                 1  \n",
       "547            smokes                 0  \n",
       "562           Unknown                 0  \n",
       "404           Unknown                 0  \n",
       "99       never smoked                 1  "
      ]
     },
     "execution_count": 12,
     "metadata": {},
     "output_type": "execute_result"
    }
   ],
   "source": [
    "#----------------------------------------------------------\n",
    "# Muestra 5 datos de entrenamiento\n",
    "#----------------------------------------------------------\n",
    "\n",
    "train_data.head()"
   ]
  },
  {
   "cell_type": "markdown",
   "id": "df264431",
   "metadata": {},
   "source": [
    "De los 560 datos de entrenamiento se muestra 5 datos aleatorios "
   ]
  },
  {
   "cell_type": "markdown",
   "id": "21b9f774",
   "metadata": {},
   "source": [
    "#### 3. Utilizar una estrategia para normalizar los datos y llenar los datos faltantes"
   ]
  },
  {
   "cell_type": "markdown",
   "id": "a30abaf9",
   "metadata": {},
   "source": [
    "### Pipeline para los atributos categóricos"
   ]
  },
  {
   "cell_type": "code",
   "execution_count": 13,
   "id": "c245bdaa",
   "metadata": {},
   "outputs": [],
   "source": [
    "# 5 atributos categóricos\n",
    "cat_attribs = ['sexo','casado','tipo_trabajo','tipo_residencia','estado_tabaquismo']\n",
    "\n",
    "cat_pipeline = Pipeline([\n",
    "        (\"imputer\", SimpleImputer(strategy=\"most_frequent\")),\n",
    "        (\"cat_encoder\", OneHotEncoder(sparse=False))\n",
    "    ])"
   ]
  },
  {
   "cell_type": "markdown",
   "id": "64f0b636",
   "metadata": {},
   "source": [
    "### Pipeline para los atributos númericos"
   ]
  },
  {
   "cell_type": "code",
   "execution_count": 14,
   "id": "91b86e98",
   "metadata": {},
   "outputs": [],
   "source": [
    "# 5 atributos numéricos\n",
    "num_attribs = ['edad','hipertension','enfermedades_cardiacas','nivel_glucosa_promedio','indice_masa_corporal']\n",
    "\n",
    "num_pipeline = Pipeline([\n",
    "        (\"imputer\", SimpleImputer(strategy=\"median\")),\n",
    "        (\"scaler\", StandardScaler())\n",
    "\n",
    "    ])"
   ]
  },
  {
   "cell_type": "markdown",
   "id": "6439283f",
   "metadata": {},
   "source": [
    "### Pipeline completo"
   ]
  },
  {
   "cell_type": "code",
   "execution_count": 15,
   "id": "dd968287",
   "metadata": {},
   "outputs": [],
   "source": [
    "full_pipeline = ColumnTransformer([\n",
    "    (\"num\", num_pipeline, num_attribs),\n",
    "    (\"cat\", cat_pipeline, cat_attribs),\n",
    "])"
   ]
  },
  {
   "cell_type": "code",
   "execution_count": 16,
   "id": "73520b39",
   "metadata": {},
   "outputs": [
    {
     "data": {
      "text/plain": [
       "(560, 20)"
      ]
     },
     "execution_count": 16,
     "metadata": {},
     "output_type": "execute_result"
    }
   ],
   "source": [
    "#----------------------------------------------------------\n",
    "# Se transforman los datos entrenados \n",
    "# Variables independientes\n",
    "#----------------------------------------------------------\n",
    "X_train = full_pipeline.fit_transform(train_data)\n",
    "X_train.shape"
   ]
  },
  {
   "cell_type": "markdown",
   "id": "7f9e96b4",
   "metadata": {},
   "source": [
    "Los datos de entrenamiento son 560 y 20 por el OneHotEncoding (5 de los atributos numéricos + 15 de los atributoscategóricos)"
   ]
  },
  {
   "cell_type": "code",
   "execution_count": 17,
   "id": "e91ee666",
   "metadata": {},
   "outputs": [
    {
     "data": {
      "text/plain": [
       "array([ 0.2416507 , -0.4259514 , -0.32332103, -0.11008245, -0.18026053,\n",
       "        1.        ,  0.        ,  0.        ,  1.        ,  1.        ,\n",
       "        0.        ,  0.        ,  0.        ,  0.        ,  0.        ,\n",
       "        1.        ,  1.        ,  0.        ,  0.        ,  0.        ])"
      ]
     },
     "execution_count": 17,
     "metadata": {},
     "output_type": "execute_result"
    }
   ],
   "source": [
    "#---------------------------------------------------------------\n",
    "# Muestra los datos de entrenamiento después de la codificación\n",
    "#---------------------------------------------------------------\n",
    "\n",
    "X_train[0,:]"
   ]
  },
  {
   "cell_type": "code",
   "execution_count": 18,
   "id": "e4e16151",
   "metadata": {
    "scrolled": false
   },
   "outputs": [
    {
     "data": {
      "text/plain": [
       "104    1\n",
       "547    0\n",
       "562    0\n",
       "404    0\n",
       "99     1\n",
       "      ..\n",
       "42     1\n",
       "286    0\n",
       "59     1\n",
       "694    0\n",
       "697    0\n",
       "Name: derrame_cerebral, Length: 560, dtype: int64"
      ]
     },
     "execution_count": 18,
     "metadata": {},
     "output_type": "execute_result"
    }
   ],
   "source": [
    "#----------------------------------------------------------\n",
    "# Variable dependiente -> derrame_cerebral\n",
    "#----------------------------------------------------------\n",
    "\n",
    "y_train = train_data[\"derrame_cerebral\"]\n",
    "y_train"
   ]
  },
  {
   "cell_type": "code",
   "execution_count": 19,
   "id": "e6099a14",
   "metadata": {},
   "outputs": [
    {
     "data": {
      "text/plain": [
       "array([[ 0.33111073, -0.4259514 , -0.32332103, ...,  0.        ,\n",
       "         1.        ,  0.        ],\n",
       "       [ 1.31517103, -0.4259514 , -0.32332103, ...,  0.        ,\n",
       "         1.        ,  0.        ],\n",
       "       [-1.4133598 , -0.4259514 , -0.32332103, ...,  0.        ,\n",
       "         1.        ,  0.        ],\n",
       "       ...,\n",
       "       [-1.68173989, -0.4259514 , -0.32332103, ...,  0.        ,\n",
       "         0.        ,  0.        ],\n",
       "       [ 1.13625098, -0.4259514 ,  3.09290118, ...,  0.        ,\n",
       "         1.        ,  0.        ],\n",
       "       [-0.07145939, -0.4259514 , -0.32332103, ...,  0.        ,\n",
       "         0.        ,  1.        ]])"
      ]
     },
     "execution_count": 19,
     "metadata": {},
     "output_type": "execute_result"
    }
   ],
   "source": [
    "#----------------------------------------------------------\n",
    "# Se transforman los datos de prueba \n",
    "# Variables independientes\n",
    "#--------------------------------------------------------\n",
    "X_test = full_pipeline.transform(test_data) \n",
    "X_test"
   ]
  },
  {
   "cell_type": "code",
   "execution_count": 20,
   "id": "69e2797b",
   "metadata": {},
   "outputs": [
    {
     "data": {
      "text/plain": [
       "273    0\n",
       "226    1\n",
       "394    0\n",
       "497    0\n",
       "490    0\n",
       "      ..\n",
       "577    0\n",
       "492    0\n",
       "245    1\n",
       "155    1\n",
       "156    1\n",
       "Name: derrame_cerebral, Length: 140, dtype: int64"
      ]
     },
     "execution_count": 20,
     "metadata": {},
     "output_type": "execute_result"
    }
   ],
   "source": [
    "#----------------------------------------------------------\n",
    "# Variable dependiente -> derrame_cerebral\n",
    "#----------------------------------------------------------\n",
    "y_test = test_data[\"derrame_cerebral\"]\n",
    "y_test"
   ]
  },
  {
   "cell_type": "markdown",
   "id": "b459a02c",
   "metadata": {},
   "source": [
    "#### 4. Construir 5 redes neuronales variando en la topología de la red la cantidad de capas ocultas y de neuronas por cada capa oculta. Puede también variar los hiperparámetros solver y la función de activación. En todas las pruebas debe usar un random_state=123. Incluya en el notebook una tabla a manera de resumen con el accuracy obtenido en cada caso y también las matrices de confusión"
   ]
  },
  {
   "cell_type": "code",
   "execution_count": 21,
   "id": "9fe9f3d3",
   "metadata": {},
   "outputs": [
    {
     "name": "stderr",
     "output_type": "stream",
     "text": [
      "/opt/anaconda3/lib/python3.9/site-packages/sklearn/neural_network/_multilayer_perceptron.py:692: ConvergenceWarning: Stochastic Optimizer: Maximum iterations (200) reached and the optimization hasn't converged yet.\n",
      "  warnings.warn(\n",
      "/opt/anaconda3/lib/python3.9/site-packages/sklearn/neural_network/_multilayer_perceptron.py:692: ConvergenceWarning: Stochastic Optimizer: Maximum iterations (200) reached and the optimization hasn't converged yet.\n",
      "  warnings.warn(\n",
      "/opt/anaconda3/lib/python3.9/site-packages/sklearn/neural_network/_multilayer_perceptron.py:692: ConvergenceWarning: Stochastic Optimizer: Maximum iterations (200) reached and the optimization hasn't converged yet.\n",
      "  warnings.warn(\n",
      "/opt/anaconda3/lib/python3.9/site-packages/sklearn/neural_network/_multilayer_perceptron.py:692: ConvergenceWarning: Stochastic Optimizer: Maximum iterations (200) reached and the optimization hasn't converged yet.\n",
      "  warnings.warn(\n",
      "/opt/anaconda3/lib/python3.9/site-packages/sklearn/neural_network/_multilayer_perceptron.py:692: ConvergenceWarning: Stochastic Optimizer: Maximum iterations (200) reached and the optimization hasn't converged yet.\n",
      "  warnings.warn(\n",
      "/opt/anaconda3/lib/python3.9/site-packages/sklearn/neural_network/_multilayer_perceptron.py:692: ConvergenceWarning: Stochastic Optimizer: Maximum iterations (200) reached and the optimization hasn't converged yet.\n",
      "  warnings.warn(\n",
      "/opt/anaconda3/lib/python3.9/site-packages/sklearn/neural_network/_multilayer_perceptron.py:692: ConvergenceWarning: Stochastic Optimizer: Maximum iterations (200) reached and the optimization hasn't converged yet.\n",
      "  warnings.warn(\n",
      "/opt/anaconda3/lib/python3.9/site-packages/sklearn/neural_network/_multilayer_perceptron.py:692: ConvergenceWarning: Stochastic Optimizer: Maximum iterations (200) reached and the optimization hasn't converged yet.\n",
      "  warnings.warn(\n",
      "/opt/anaconda3/lib/python3.9/site-packages/sklearn/neural_network/_multilayer_perceptron.py:692: ConvergenceWarning: Stochastic Optimizer: Maximum iterations (200) reached and the optimization hasn't converged yet.\n",
      "  warnings.warn(\n",
      "/opt/anaconda3/lib/python3.9/site-packages/sklearn/neural_network/_multilayer_perceptron.py:692: ConvergenceWarning: Stochastic Optimizer: Maximum iterations (200) reached and the optimization hasn't converged yet.\n",
      "  warnings.warn(\n",
      "/opt/anaconda3/lib/python3.9/site-packages/sklearn/neural_network/_multilayer_perceptron.py:692: ConvergenceWarning: Stochastic Optimizer: Maximum iterations (200) reached and the optimization hasn't converged yet.\n",
      "  warnings.warn(\n",
      "/opt/anaconda3/lib/python3.9/site-packages/sklearn/neural_network/_multilayer_perceptron.py:692: ConvergenceWarning: Stochastic Optimizer: Maximum iterations (200) reached and the optimization hasn't converged yet.\n",
      "  warnings.warn(\n",
      "/opt/anaconda3/lib/python3.9/site-packages/sklearn/neural_network/_multilayer_perceptron.py:692: ConvergenceWarning: Stochastic Optimizer: Maximum iterations (200) reached and the optimization hasn't converged yet.\n",
      "  warnings.warn(\n",
      "/opt/anaconda3/lib/python3.9/site-packages/sklearn/neural_network/_multilayer_perceptron.py:692: ConvergenceWarning: Stochastic Optimizer: Maximum iterations (200) reached and the optimization hasn't converged yet.\n",
      "  warnings.warn(\n",
      "/opt/anaconda3/lib/python3.9/site-packages/sklearn/neural_network/_multilayer_perceptron.py:692: ConvergenceWarning: Stochastic Optimizer: Maximum iterations (200) reached and the optimization hasn't converged yet.\n",
      "  warnings.warn(\n",
      "/opt/anaconda3/lib/python3.9/site-packages/sklearn/neural_network/_multilayer_perceptron.py:692: ConvergenceWarning: Stochastic Optimizer: Maximum iterations (200) reached and the optimization hasn't converged yet.\n",
      "  warnings.warn(\n",
      "/opt/anaconda3/lib/python3.9/site-packages/sklearn/neural_network/_multilayer_perceptron.py:692: ConvergenceWarning: Stochastic Optimizer: Maximum iterations (200) reached and the optimization hasn't converged yet.\n",
      "  warnings.warn(\n"
     ]
    }
   ],
   "source": [
    "# Se crea una lista para almacenar los resultados\n",
    "resultados = []\n",
    "\n",
    "# Define una lista de topologías a probar\n",
    "topologias = [\n",
    "    (10), # una capa oculta con 20 neuronas\n",
    "    (10,10), # dos capas ocultas una con 20 y otra con 10 neuronas\n",
    "    (20,), # una capa oculta con 30 neuronas\n",
    "    (20, 20), # dos capas ocultas con 30 y otra con 20 neuronas \n",
    "    (30,), # una capa oculta con 40 neuronas\n",
    "    ]\n",
    "\n",
    "# Define una lista de funciones de activación a probar\n",
    "func_activacion = [\"relu\", \"logistic\"] \n",
    "\n",
    "# Define una lista de solvers a probar\n",
    "solvers = [\"adam\", \"sgd\"]\n",
    "\n",
    "# Itera para cada topología\n",
    "for topologia in topologias:\n",
    "    # Itera para cada función de activación\n",
    "    for activacion in func_activacion:\n",
    "        # Itera para cada solver\n",
    "        for solver in solvers:\n",
    "            # Crea el modelo de red neuronal\n",
    "            model = MLPClassifier(hidden_layer_sizes=topologia, activation=activacion, solver=solver, random_state=123)\n",
    "            # Entrena el modelo\n",
    "            model.fit(X_train, y_train)\n",
    "            # Realiza las predicciones\n",
    "            y_pred = model.predict(X_test)\n",
    "            # Calcula el accuracy\n",
    "            accuracy = round(accuracy_score(y_test, y_pred),4) # con 4 decimales\n",
    "            # Calcula la matriz de confusión\n",
    "            confusion = confusion_matrix(y_test, y_pred)\n",
    "            # Almacena el resultado\n",
    "            resultados.append({\"Topología\": topologia, \"Función de activación\": activacion, \"Solver\": solver, \"Accuracy\": accuracy, \"Matriz de confusión\": confusion})\n",
    "\n",
    "# Imprime los resultados\n",
    "#print(resultados)"
   ]
  },
  {
   "cell_type": "code",
   "execution_count": 22,
   "id": "2d1b153d",
   "metadata": {},
   "outputs": [
    {
     "data": {
      "text/html": [
       "<div>\n",
       "<style scoped>\n",
       "    .dataframe tbody tr th:only-of-type {\n",
       "        vertical-align: middle;\n",
       "    }\n",
       "\n",
       "    .dataframe tbody tr th {\n",
       "        vertical-align: top;\n",
       "    }\n",
       "\n",
       "    .dataframe thead th {\n",
       "        text-align: right;\n",
       "    }\n",
       "</style>\n",
       "<table border=\"1\" class=\"dataframe\">\n",
       "  <thead>\n",
       "    <tr style=\"text-align: right;\">\n",
       "      <th></th>\n",
       "      <th>Topología</th>\n",
       "      <th>Función de activación</th>\n",
       "      <th>Solver</th>\n",
       "      <th>Accuracy</th>\n",
       "      <th>Matriz de confusión</th>\n",
       "    </tr>\n",
       "  </thead>\n",
       "  <tbody>\n",
       "    <tr>\n",
       "      <th>0</th>\n",
       "      <td>10</td>\n",
       "      <td>relu</td>\n",
       "      <td>adam</td>\n",
       "      <td>0.7786</td>\n",
       "      <td>[[77, 13], [18, 32]]</td>\n",
       "    </tr>\n",
       "    <tr>\n",
       "      <th>1</th>\n",
       "      <td>10</td>\n",
       "      <td>relu</td>\n",
       "      <td>sgd</td>\n",
       "      <td>0.7929</td>\n",
       "      <td>[[84, 6], [23, 27]]</td>\n",
       "    </tr>\n",
       "    <tr>\n",
       "      <th>2</th>\n",
       "      <td>10</td>\n",
       "      <td>logistic</td>\n",
       "      <td>adam</td>\n",
       "      <td>0.7786</td>\n",
       "      <td>[[78, 12], [19, 31]]</td>\n",
       "    </tr>\n",
       "    <tr>\n",
       "      <th>3</th>\n",
       "      <td>10</td>\n",
       "      <td>logistic</td>\n",
       "      <td>sgd</td>\n",
       "      <td>0.6429</td>\n",
       "      <td>[[90, 0], [50, 0]]</td>\n",
       "    </tr>\n",
       "    <tr>\n",
       "      <th>4</th>\n",
       "      <td>(10, 10)</td>\n",
       "      <td>relu</td>\n",
       "      <td>adam</td>\n",
       "      <td>0.7714</td>\n",
       "      <td>[[77, 13], [19, 31]]</td>\n",
       "    </tr>\n",
       "    <tr>\n",
       "      <th>5</th>\n",
       "      <td>(10, 10)</td>\n",
       "      <td>relu</td>\n",
       "      <td>sgd</td>\n",
       "      <td>0.7214</td>\n",
       "      <td>[[83, 7], [32, 18]]</td>\n",
       "    </tr>\n",
       "    <tr>\n",
       "      <th>6</th>\n",
       "      <td>(10, 10)</td>\n",
       "      <td>logistic</td>\n",
       "      <td>adam</td>\n",
       "      <td>0.7786</td>\n",
       "      <td>[[74, 16], [15, 35]]</td>\n",
       "    </tr>\n",
       "    <tr>\n",
       "      <th>7</th>\n",
       "      <td>(10, 10)</td>\n",
       "      <td>logistic</td>\n",
       "      <td>sgd</td>\n",
       "      <td>0.6429</td>\n",
       "      <td>[[90, 0], [50, 0]]</td>\n",
       "    </tr>\n",
       "    <tr>\n",
       "      <th>8</th>\n",
       "      <td>(20,)</td>\n",
       "      <td>relu</td>\n",
       "      <td>adam</td>\n",
       "      <td>0.7714</td>\n",
       "      <td>[[75, 15], [17, 33]]</td>\n",
       "    </tr>\n",
       "    <tr>\n",
       "      <th>9</th>\n",
       "      <td>(20,)</td>\n",
       "      <td>relu</td>\n",
       "      <td>sgd</td>\n",
       "      <td>0.7857</td>\n",
       "      <td>[[79, 11], [19, 31]]</td>\n",
       "    </tr>\n",
       "    <tr>\n",
       "      <th>10</th>\n",
       "      <td>(20,)</td>\n",
       "      <td>logistic</td>\n",
       "      <td>adam</td>\n",
       "      <td>0.8000</td>\n",
       "      <td>[[76, 14], [14, 36]]</td>\n",
       "    </tr>\n",
       "    <tr>\n",
       "      <th>11</th>\n",
       "      <td>(20,)</td>\n",
       "      <td>logistic</td>\n",
       "      <td>sgd</td>\n",
       "      <td>0.6429</td>\n",
       "      <td>[[90, 0], [50, 0]]</td>\n",
       "    </tr>\n",
       "    <tr>\n",
       "      <th>12</th>\n",
       "      <td>(20, 20)</td>\n",
       "      <td>relu</td>\n",
       "      <td>adam</td>\n",
       "      <td>0.7786</td>\n",
       "      <td>[[75, 15], [16, 34]]</td>\n",
       "    </tr>\n",
       "    <tr>\n",
       "      <th>13</th>\n",
       "      <td>(20, 20)</td>\n",
       "      <td>relu</td>\n",
       "      <td>sgd</td>\n",
       "      <td>0.7643</td>\n",
       "      <td>[[82, 8], [25, 25]]</td>\n",
       "    </tr>\n",
       "    <tr>\n",
       "      <th>14</th>\n",
       "      <td>(20, 20)</td>\n",
       "      <td>logistic</td>\n",
       "      <td>adam</td>\n",
       "      <td>0.7929</td>\n",
       "      <td>[[75, 15], [14, 36]]</td>\n",
       "    </tr>\n",
       "    <tr>\n",
       "      <th>15</th>\n",
       "      <td>(20, 20)</td>\n",
       "      <td>logistic</td>\n",
       "      <td>sgd</td>\n",
       "      <td>0.6429</td>\n",
       "      <td>[[90, 0], [50, 0]]</td>\n",
       "    </tr>\n",
       "    <tr>\n",
       "      <th>16</th>\n",
       "      <td>(30,)</td>\n",
       "      <td>relu</td>\n",
       "      <td>adam</td>\n",
       "      <td>0.7714</td>\n",
       "      <td>[[75, 15], [17, 33]]</td>\n",
       "    </tr>\n",
       "    <tr>\n",
       "      <th>17</th>\n",
       "      <td>(30,)</td>\n",
       "      <td>relu</td>\n",
       "      <td>sgd</td>\n",
       "      <td>0.7857</td>\n",
       "      <td>[[78, 12], [18, 32]]</td>\n",
       "    </tr>\n",
       "    <tr>\n",
       "      <th>18</th>\n",
       "      <td>(30,)</td>\n",
       "      <td>logistic</td>\n",
       "      <td>adam</td>\n",
       "      <td>0.8000</td>\n",
       "      <td>[[76, 14], [14, 36]]</td>\n",
       "    </tr>\n",
       "    <tr>\n",
       "      <th>19</th>\n",
       "      <td>(30,)</td>\n",
       "      <td>logistic</td>\n",
       "      <td>sgd</td>\n",
       "      <td>0.6429</td>\n",
       "      <td>[[90, 0], [50, 0]]</td>\n",
       "    </tr>\n",
       "  </tbody>\n",
       "</table>\n",
       "</div>"
      ],
      "text/plain": [
       "   Topología Función de activación Solver  Accuracy   Matriz de confusión\n",
       "0         10                  relu   adam    0.7786  [[77, 13], [18, 32]]\n",
       "1         10                  relu    sgd    0.7929   [[84, 6], [23, 27]]\n",
       "2         10              logistic   adam    0.7786  [[78, 12], [19, 31]]\n",
       "3         10              logistic    sgd    0.6429    [[90, 0], [50, 0]]\n",
       "4   (10, 10)                  relu   adam    0.7714  [[77, 13], [19, 31]]\n",
       "5   (10, 10)                  relu    sgd    0.7214   [[83, 7], [32, 18]]\n",
       "6   (10, 10)              logistic   adam    0.7786  [[74, 16], [15, 35]]\n",
       "7   (10, 10)              logistic    sgd    0.6429    [[90, 0], [50, 0]]\n",
       "8      (20,)                  relu   adam    0.7714  [[75, 15], [17, 33]]\n",
       "9      (20,)                  relu    sgd    0.7857  [[79, 11], [19, 31]]\n",
       "10     (20,)              logistic   adam    0.8000  [[76, 14], [14, 36]]\n",
       "11     (20,)              logistic    sgd    0.6429    [[90, 0], [50, 0]]\n",
       "12  (20, 20)                  relu   adam    0.7786  [[75, 15], [16, 34]]\n",
       "13  (20, 20)                  relu    sgd    0.7643   [[82, 8], [25, 25]]\n",
       "14  (20, 20)              logistic   adam    0.7929  [[75, 15], [14, 36]]\n",
       "15  (20, 20)              logistic    sgd    0.6429    [[90, 0], [50, 0]]\n",
       "16     (30,)                  relu   adam    0.7714  [[75, 15], [17, 33]]\n",
       "17     (30,)                  relu    sgd    0.7857  [[78, 12], [18, 32]]\n",
       "18     (30,)              logistic   adam    0.8000  [[76, 14], [14, 36]]\n",
       "19     (30,)              logistic    sgd    0.6429    [[90, 0], [50, 0]]"
      ]
     },
     "metadata": {},
     "output_type": "display_data"
    }
   ],
   "source": [
    "# Se imprime la tabla con los resultados\n",
    "result = pd.DataFrame(resultados)\n",
    "display(result)"
   ]
  },
  {
   "cell_type": "markdown",
   "id": "3d3e624a",
   "metadata": {},
   "source": [
    "Con los resultados obtenidos se construyó la tabla anterior, en la cual se tiene la topología de la red, la función de activación, el hiperparámetro solver, el accuracy y la matriz de confusión."
   ]
  },
  {
   "cell_type": "markdown",
   "id": "fc413eb0",
   "metadata": {},
   "source": [
    "#### 5. Indique en el notebook usando una celda de tipo Markdown los hiperparámetros que por el momento le permiten obtener la red con mayor accuracy"
   ]
  },
  {
   "cell_type": "code",
   "execution_count": 23,
   "id": "3d7ee371",
   "metadata": {},
   "outputs": [
    {
     "name": "stdout",
     "output_type": "stream",
     "text": [
      "-------------------------------------------\n",
      "Mejores hiperparámetros:\n",
      "-------------------------------------------\n",
      "Topología: (20,)\n",
      "Función de activación: logistic\n",
      "Solver: adam\n",
      "Accuracy: 0.8\n",
      "Matriz de confusión: [[76 14]\n",
      " [14 36]]\n"
     ]
    }
   ],
   "source": [
    "# Encontrar la red neuronal con el mayor valor de Accuracy\n",
    "max_accuracy = max(resultados, key=lambda x: x[\"Accuracy\"])\n",
    "\n",
    "# Imprime los hiperparámetros del mejor resultado\n",
    "print(\"-------------------------------------------\")\n",
    "print(\"Mejores hiperparámetros:\")\n",
    "print(\"-------------------------------------------\")\n",
    "print(\"Topología:\", max_accuracy[\"Topología\"])\n",
    "print(\"Función de activación:\", max_accuracy[\"Función de activación\"])\n",
    "print(\"Solver:\", max_accuracy[\"Solver\"])\n",
    "print(\"Accuracy:\", max_accuracy[\"Accuracy\"])\n",
    "print(\"Matriz de confusión:\", max_accuracy[\"Matriz de confusión\"])"
   ]
  },
  {
   "cell_type": "markdown",
   "id": "1f5056e9",
   "metadata": {},
   "source": [
    "Se obtiene la red neuronal con el valor más alto en accuracy y se imprime los hiperparámetros."
   ]
  },
  {
   "cell_type": "markdown",
   "id": "d6e01baf",
   "metadata": {},
   "source": [
    "#### 6. Seleccione uno de los hiperparámetros disponibles en la documentación (https://scikit-learn.org/stable/modules/generated/sklearn.neural_network.MLPClassifier.html) que sea diferente al solver, a la función de activación, y al random_state. Realice dos variaciones en el hiperparámetro seleccionado manteniendo los otros hiperparámetros del punto anterior. Indique el accuracy obtenido al modificar el hiperparámetro seleccionado y analice si la red mejora, empeora, o mantiene su exactitud.Incluya en el notebook dicho análisis"
   ]
  },
  {
   "cell_type": "code",
   "execution_count": 24,
   "id": "f83d641d",
   "metadata": {},
   "outputs": [
    {
     "name": "stdout",
     "output_type": "stream",
     "text": [
      "---------------------------------\n",
      "[{'learning_rate_init': 0.01, 'accuracy': 0.8142857142857143}, {'learning_rate_init': 0.001, 'accuracy': 0.8142857142857143}]\n",
      "---------------------------------\n"
     ]
    }
   ],
   "source": [
    "# Se crea una lista para almacenar los resultados\n",
    "resultados_p7 = []\n",
    "\n",
    "# Define una lista de tasas de aprendizaje inicial para la prueba\n",
    "learning_rate_inits = [0.01, 0.001]\n",
    "activation = \"identity\" # función de activación ReLU\n",
    "solver = \"lbfgs\" # solver Adam\n",
    "# Itera para cada tasa de aprendizaje inicial\n",
    "for learning_rate_init in learning_rate_inits:\n",
    "\n",
    "    # Define la topología de la red\n",
    "    hidden_layer_sizes = (10, 10) # dos capas ocultas con 10 neuronas cada una\n",
    "    # Crea el modelo de red neuronal\n",
    "    model = MLPClassifier(hidden_layer_sizes=hidden_layer_sizes, activation=activation, solver=solver, random_state=123, learning_rate_init=learning_rate_init)\n",
    "    # Entrena el modelo\n",
    "    model.fit(X_train, y_train) \n",
    "    # Realiza las predicciones\n",
    "    y_pred = model.predict(X_test)\n",
    "    # Calcula el accuracy\n",
    "    accuracy = accuracy_score(y_test, y_pred)\n",
    "    # Almacena el resultado\n",
    "    resultados_p7.append({\"learning_rate_init\": learning_rate_init, \"accuracy\": accuracy})\n",
    "\n",
    "# Imprime los resultados\n",
    "print(\"---------------------------------\")\n",
    "print(resultados_p7)\n",
    "print(\"---------------------------------\")"
   ]
  },
  {
   "cell_type": "code",
   "execution_count": 25,
   "id": "82563b17",
   "metadata": {},
   "outputs": [
    {
     "data": {
      "text/html": [
       "<div>\n",
       "<style scoped>\n",
       "    .dataframe tbody tr th:only-of-type {\n",
       "        vertical-align: middle;\n",
       "    }\n",
       "\n",
       "    .dataframe tbody tr th {\n",
       "        vertical-align: top;\n",
       "    }\n",
       "\n",
       "    .dataframe thead th {\n",
       "        text-align: right;\n",
       "    }\n",
       "</style>\n",
       "<table border=\"1\" class=\"dataframe\">\n",
       "  <thead>\n",
       "    <tr style=\"text-align: right;\">\n",
       "      <th></th>\n",
       "      <th>learning_rate_init</th>\n",
       "      <th>accuracy</th>\n",
       "    </tr>\n",
       "  </thead>\n",
       "  <tbody>\n",
       "    <tr>\n",
       "      <th>0</th>\n",
       "      <td>0.010</td>\n",
       "      <td>0.814286</td>\n",
       "    </tr>\n",
       "    <tr>\n",
       "      <th>1</th>\n",
       "      <td>0.001</td>\n",
       "      <td>0.814286</td>\n",
       "    </tr>\n",
       "  </tbody>\n",
       "</table>\n",
       "</div>"
      ],
      "text/plain": [
       "   learning_rate_init  accuracy\n",
       "0               0.010  0.814286\n",
       "1               0.001  0.814286"
      ]
     },
     "metadata": {},
     "output_type": "display_data"
    }
   ],
   "source": [
    "# Se imprime la tabla con los resultados\n",
    "resultado_punto7 = pd.DataFrame(resultados_p7)\n",
    "display(resultado_punto7)"
   ]
  },
  {
   "cell_type": "code",
   "execution_count": 26,
   "id": "afad6b61",
   "metadata": {},
   "outputs": [
    {
     "name": "stdout",
     "output_type": "stream",
     "text": [
      "Accuracy de la red neuronal del punto 5: 0.8\n",
      "Accuracy de la red neuronal del punto 6: 0.8142857142857143\n",
      "    \n",
      "La red neuronal mejoró la exactitud, por lo que la mejor red tiene un accuracy de 0.8143 que corresponde al punto 7.\n",
      "-------------------------------------------\n",
      "Mejores hiperparámetros:\n",
      "-------------------------------------------\n",
      "learning_rate_init: 0.01\n",
      "Función de activación: identity\n",
      "Solver: lbfgs\n"
     ]
    }
   ],
   "source": [
    "#----------------------------------------------------------\n",
    "# Comparación de los accuracy del punto 5 y punto 6\n",
    "#----------------------------------------------------------\n",
    "\n",
    "# Se imprime la red neuronal con el mayor valor de Accuracy del punto 5\n",
    "print(\"Accuracy de la red neuronal del punto 5:\", max_accuracy[\"Accuracy\"])\n",
    "\n",
    "# Encontrar la red neuronal con el mayor valor de Accuracy\n",
    "max_accuracy_p7 = max(resultados_p7, key=lambda x: x[\"accuracy\"])\n",
    "\n",
    "# Se imprime la red neuronal con el mayor valor de Accuracy del punto 6\n",
    "print(\"Accuracy de la red neuronal del punto 6:\", max_accuracy_p7[\"accuracy\"])\n",
    "print(\"    \")\n",
    "\n",
    "if max_accuracy[\"Accuracy\"] > max_accuracy_p7[\"accuracy\"]:\n",
    "    print(\"La red neuronal empeoró la exactitud, por lo que la mejor red tiene un accuracy de\", round(max_accuracy[\"Accuracy\"],4),\n",
    "          \"que corresponde al punto 5.\")\n",
    "    print(\"-------------------------------------------\")\n",
    "    print(\"Mejores hiperparámetros:\")\n",
    "    print(\"-------------------------------------------\")\n",
    "    print(\"Topología:\", max_accuracy[\"Topología\"])\n",
    "    print(\"Función de activación:\", max_accuracy[\"Función de activación\"])\n",
    "    print(\"Solver:\", max_accuracy[\"Solver\"])\n",
    "    print(\"Accuracy:\", max_accuracy[\"Accuracy\"])\n",
    "    print(\"Matriz de confusión:\", max_accuracy[\"Matriz de confusión\"])\n",
    "    \n",
    "elif max_accuracy[\"Accuracy\"] < max_accuracy_p7[\"accuracy\"]:\n",
    "    print(\"La red neuronal mejoró la exactitud, por lo que la mejor red tiene un accuracy de\", round(max_accuracy_p7[\"accuracy\"],4), \n",
    "          \"que corresponde al punto 7.\")\n",
    "    print(\"-------------------------------------------\")\n",
    "    print(\"Mejores hiperparámetros:\")\n",
    "    print(\"-------------------------------------------\")\n",
    "    print(\"learning_rate_init:\", max_accuracy_p7[\"learning_rate_init\"])\n",
    "    print(\"Función de activación:\", activation)\n",
    "    print(\"Solver:\", solver)\n",
    "else:\n",
    "    print(\"La red neuronal mantuvo la exactitud, ya que los valores de accuracy dieron igual aunque se haya realizado variaciones en los hiperparámetros.\")\n",
    "\n"
   ]
  }
 ],
 "metadata": {
  "kernelspec": {
   "display_name": "Python 3 (ipykernel)",
   "language": "python",
   "name": "python3"
  },
  "language_info": {
   "codemirror_mode": {
    "name": "ipython",
    "version": 3
   },
   "file_extension": ".py",
   "mimetype": "text/x-python",
   "name": "python",
   "nbconvert_exporter": "python",
   "pygments_lexer": "ipython3",
   "version": "3.9.13"
  }
 },
 "nbformat": 4,
 "nbformat_minor": 5
}
